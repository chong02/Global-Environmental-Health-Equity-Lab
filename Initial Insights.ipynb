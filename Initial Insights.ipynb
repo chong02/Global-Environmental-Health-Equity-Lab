{
 "cells": [
  {
   "cell_type": "markdown",
   "id": "78d4762c-538c-4a46-870e-f25e4019f183",
   "metadata": {},
   "source": [
    "# Initial Insights\n",
    "Notebook to derive some initial insights from the [@mediapermata](https://www.instagram.com/mediapermata/) Instagram page (Brunei's premier newspaper) with a particular focus on the comments."
   ]
  },
  {
   "cell_type": "code",
   "execution_count": 1,
   "id": "0e5884ce-76ad-404f-9a02-bebd809214da",
   "metadata": {},
   "outputs": [],
   "source": [
    "# Load in necessary libraries\n",
    "import warnings\n",
    "warnings.filterwarnings('ignore')\n",
    "from instaloader import *\n",
    "import malaya\n",
    "import pandas as pd\n",
    "import numpy as np\n",
    "import matplotlib.pyplot as plt\n",
    "import seaborn as sns"
   ]
  },
  {
   "cell_type": "code",
   "execution_count": 2,
   "id": "75e06362-24af-4966-98c9-bc71a1a36e7b",
   "metadata": {},
   "outputs": [],
   "source": [
    "# Initialize session\n",
    "L = instaloader.Instaloader()\n",
    "L.login('c.hong20', )"
   ]
  },
  {
   "cell_type": "code",
   "execution_count": 5,
   "id": "2c83f0f4-35ea-4653-b6b3-42814560ff82",
   "metadata": {},
   "outputs": [
    {
     "ename": "LoginRequiredException",
     "evalue": "--login required to get a profile's followers.",
     "output_type": "error",
     "traceback": [
      "\u001b[0;31m---------------------------------------------------------------------------\u001b[0m",
      "\u001b[0;31mLoginRequiredException\u001b[0m                    Traceback (most recent call last)",
      "Cell \u001b[0;32mIn[5], line 3\u001b[0m\n\u001b[1;32m      1\u001b[0m \u001b[38;5;66;03m# Scrape profile\u001b[39;00m\n\u001b[1;32m      2\u001b[0m profile \u001b[38;5;241m=\u001b[39m Profile\u001b[38;5;241m.\u001b[39mfrom_username(L\u001b[38;5;241m.\u001b[39mcontext, \u001b[38;5;124m'\u001b[39m\u001b[38;5;124mmediapermata\u001b[39m\u001b[38;5;124m'\u001b[39m)\n\u001b[0;32m----> 3\u001b[0m \u001b[38;5;28mprint\u001b[39m(\u001b[38;5;124mf\u001b[39m\u001b[38;5;124m'\u001b[39m\u001b[38;5;124mFollowers: \u001b[39m\u001b[38;5;132;01m{\u001b[39;00mprofile\u001b[38;5;241m.\u001b[39mget_followers()\u001b[38;5;132;01m}\u001b[39;00m\u001b[38;5;124m'\u001b[39m)\n\u001b[1;32m      4\u001b[0m \u001b[38;5;28mprint\u001b[39m(\u001b[38;5;124mf\u001b[39m\u001b[38;5;124m'\u001b[39m\u001b[38;5;124mNumber of Accounts Followed: \u001b[39m\u001b[38;5;132;01m{\u001b[39;00mprofile\u001b[38;5;241m.\u001b[39mget_followees()\u001b[38;5;132;01m}\u001b[39;00m\u001b[38;5;124m'\u001b[39m)\n",
      "File \u001b[0;32m~/miniforge3/envs/tf_m1/lib/python3.8/site-packages/instaloader/structures.py:1053\u001b[0m, in \u001b[0;36mProfile.get_followers\u001b[0;34m(self)\u001b[0m\n\u001b[1;32m   1046\u001b[0m \u001b[38;5;250m\u001b[39m\u001b[38;5;124;03m\"\"\"\u001b[39;00m\n\u001b[1;32m   1047\u001b[0m \u001b[38;5;124;03mRetrieve list of followers of given profile.\u001b[39;00m\n\u001b[1;32m   1048\u001b[0m \u001b[38;5;124;03mTo use this, one needs to be logged in and private profiles has to be followed.\u001b[39;00m\n\u001b[1;32m   1049\u001b[0m \n\u001b[1;32m   1050\u001b[0m \u001b[38;5;124;03m:rtype: NodeIterator[Profile]\u001b[39;00m\n\u001b[1;32m   1051\u001b[0m \u001b[38;5;124;03m\"\"\"\u001b[39;00m\n\u001b[1;32m   1052\u001b[0m \u001b[38;5;28;01mif\u001b[39;00m \u001b[38;5;129;01mnot\u001b[39;00m \u001b[38;5;28mself\u001b[39m\u001b[38;5;241m.\u001b[39m_context\u001b[38;5;241m.\u001b[39mis_logged_in:\n\u001b[0;32m-> 1053\u001b[0m     \u001b[38;5;28;01mraise\u001b[39;00m LoginRequiredException(\u001b[38;5;124m\"\u001b[39m\u001b[38;5;124m--login required to get a profile\u001b[39m\u001b[38;5;124m'\u001b[39m\u001b[38;5;124ms followers.\u001b[39m\u001b[38;5;124m\"\u001b[39m)\n\u001b[1;32m   1054\u001b[0m \u001b[38;5;28mself\u001b[39m\u001b[38;5;241m.\u001b[39m_obtain_metadata()\n\u001b[1;32m   1055\u001b[0m \u001b[38;5;28;01mreturn\u001b[39;00m NodeIterator(\n\u001b[1;32m   1056\u001b[0m     \u001b[38;5;28mself\u001b[39m\u001b[38;5;241m.\u001b[39m_context,\n\u001b[1;32m   1057\u001b[0m     \u001b[38;5;124m'\u001b[39m\u001b[38;5;124m37479f2b8209594dde7facb0d904896a\u001b[39m\u001b[38;5;124m'\u001b[39m,\n\u001b[0;32m   (...)\u001b[0m\n\u001b[1;32m   1061\u001b[0m     \u001b[38;5;124m'\u001b[39m\u001b[38;5;124mhttps://www.instagram.com/\u001b[39m\u001b[38;5;132;01m{0}\u001b[39;00m\u001b[38;5;124m/\u001b[39m\u001b[38;5;124m'\u001b[39m\u001b[38;5;241m.\u001b[39mformat(\u001b[38;5;28mself\u001b[39m\u001b[38;5;241m.\u001b[39musername),\n\u001b[1;32m   1062\u001b[0m )\n",
      "\u001b[0;31mLoginRequiredException\u001b[0m: --login required to get a profile's followers."
     ]
    }
   ],
   "source": [
    "# Scrape profile\n",
    "profile = Profile.from_username(L.context, 'mediapermata')\n",
    "print(f'Followers: {profile.get_followers()}')\n",
    "print(f'Number of Accounts Followed: {profile.get_followees()}')"
   ]
  },
  {
   "cell_type": "code",
   "execution_count": null,
   "id": "c4d7eb14-fa06-4b0c-b3d7-29cb4499ad2a",
   "metadata": {},
   "outputs": [],
   "source": [
    "# Scrape posts\n",
    "posts = profile.get_posts()\n",
    "for post in posts:\n",
    "    "
   ]
  }
 ],
 "metadata": {
  "kernelspec": {
   "display_name": "tf_m1",
   "language": "python",
   "name": "tf_m1"
  },
  "language_info": {
   "codemirror_mode": {
    "name": "ipython",
    "version": 3
   },
   "file_extension": ".py",
   "mimetype": "text/x-python",
   "name": "python",
   "nbconvert_exporter": "python",
   "pygments_lexer": "ipython3",
   "version": "3.8.16"
  }
 },
 "nbformat": 4,
 "nbformat_minor": 5
}
