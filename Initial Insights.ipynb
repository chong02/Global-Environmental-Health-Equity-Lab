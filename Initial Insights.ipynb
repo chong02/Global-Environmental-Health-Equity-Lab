{
 "cells": [
  {
   "cell_type": "markdown",
   "id": "78d4762c-538c-4a46-870e-f25e4019f183",
   "metadata": {},
   "source": [
    "# Initial Insights\n",
    "Notebook to derive some initial insights from the [@mediapermata](https://www.instagram.com/mediapermata/) Instagram page (Brunei's premier newspaper) with a particular focus on the comments."
   ]
  },
  {
   "cell_type": "code",
   "execution_count": 1,
   "id": "0e5884ce-76ad-404f-9a02-bebd809214da",
   "metadata": {},
   "outputs": [],
   "source": [
    "# Load in necessary libraries\n",
    "import warnings\n",
    "warnings.filterwarnings('ignore')\n",
    "from selenium import webdriver\n",
    "from selenium.webdriver.common.keys import Keys\n",
    "from selenium.webdriver.common.by import By\n",
    "import time\n",
    "from bs4 import BeautifulSoup\n",
    "import re\n",
    "import malaya\n",
    "import pandas as pd\n",
    "import numpy as np\n",
    "import matplotlib.pyplot as plt\n",
    "import seaborn as sns\n",
    "import utils"
   ]
  },
  {
   "cell_type": "code",
   "execution_count": 2,
   "id": "33c54a2f-46be-438d-bd8a-dd6c6ffa3a7d",
   "metadata": {},
   "outputs": [],
   "source": [
    "user_name = utils.username\n",
    "pass_word = utils.password\n",
    "profile = 'mediapermata'\n",
    "\n",
    "path = r'/Users/chong02/chromedriver.exe'\n",
    "driver = webdriver.Chrome(path)\n",
    "driver.get('https://www.instagram.com/')\n",
    "\n",
    "# Logging in\n",
    "time.sleep(10)\n",
    "username=driver.find_element(By.NAME, 'username')\n",
    "password=driver.find_element(By.NAME, 'password')\n",
    "username.send_keys(user_name)\n",
    "password.send_keys(pass_word)\n",
    "password.send_keys(Keys.RETURN)\n",
    "\n",
    "# Bypass save log in info\n",
    "time.sleep(10)\n",
    "not_now = driver.find_element(By.XPATH, \"//button[contains(text(), 'Not Now')]\").click()\n",
    "\n",
    "# Bypass notifs\n",
    "time.sleep(30)\n",
    "not_now_again = driver.find_element(By.XPATH, \"//button[contains(text(), 'Not Now')]\").click()\n",
    "\n",
    "# Search button\n",
    "time.sleep(5)\n",
    "open_search_tab = driver.find_element(By.XPATH, \"//a[@href='#'][@role='link']\").click()\n",
    "\n",
    "# Search for profile\n",
    "time.sleep(5)\n",
    "search_bar = driver.find_element(By.XPATH, \"//input[@placeholder='Search']\")\n",
    "search_bar.send_keys(profile)\n",
    "\n",
    "# Click on profile\n",
    "time.sleep(20)\n",
    "profile_link = driver.find_element(By.XPATH, f\"//a[@href='/{profile}/'][@role='link']\").click()\n",
    "\n",
    "# Save page html\n",
    "time.sleep(30)  # Wait for DOM to load\n",
    "html = driver.page_source"
   ]
  },
  {
   "cell_type": "code",
   "execution_count": 3,
   "id": "26ec6033-fb30-461e-8781-cf52e05c187e",
   "metadata": {},
   "outputs": [],
   "source": [
    "# Create soup\n",
    "soup = BeautifulSoup(html, 'html.parser')"
   ]
  },
  {
   "cell_type": "code",
   "execution_count": 4,
   "id": "ef9a69aa-3c85-4c8b-a12a-2d70420b0549",
   "metadata": {},
   "outputs": [],
   "source": [
    "def find_posts(style):\n",
    "    return style and re.compile(r'object-fit: cover;').search(style)"
   ]
  },
  {
   "cell_type": "code",
   "execution_count": 8,
   "id": "0830d6a3-7323-412b-a6ca-f8aea10eb8ec",
   "metadata": {},
   "outputs": [],
   "source": [
    "posts = soup.find_all(style=find_posts)"
   ]
  },
  {
   "cell_type": "code",
   "execution_count": null,
   "id": "a73f901b-5e5f-4fab-9a70-c6224a933ca2",
   "metadata": {},
   "outputs": [],
   "source": []
  }
 ],
 "metadata": {
  "kernelspec": {
   "display_name": "tf_m1",
   "language": "python",
   "name": "tf_m1"
  },
  "language_info": {
   "codemirror_mode": {
    "name": "ipython",
    "version": 3
   },
   "file_extension": ".py",
   "mimetype": "text/x-python",
   "name": "python",
   "nbconvert_exporter": "python",
   "pygments_lexer": "ipython3",
   "version": "3.8.16"
  }
 },
 "nbformat": 4,
 "nbformat_minor": 5
}
