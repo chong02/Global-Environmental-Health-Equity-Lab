{
 "cells": [
  {
   "cell_type": "markdown",
   "id": "78d4762c-538c-4a46-870e-f25e4019f183",
   "metadata": {},
   "source": [
    "# Initial Insights\n",
    "Notebook to derive some initial insights from the [@mediapermata](https://www.instagram.com/mediapermata/) Instagram page (Brunei's premier newspaper) with a particular focus on the comments."
   ]
  },
  {
   "cell_type": "code",
   "execution_count": 1,
   "id": "0e5884ce-76ad-404f-9a02-bebd809214da",
   "metadata": {},
   "outputs": [],
   "source": [
    "# Load in necessary libraries\n",
    "import warnings\n",
    "warnings.filterwarnings('ignore')\n",
    "from selenium import webdriver\n",
    "from selenium.webdriver.common.keys import Keys\n",
    "from selenium.webdriver.common.by import By\n",
    "import time\n",
    "from bs4 import BeautifulSoup\n",
    "import re\n",
    "import malaya\n",
    "import pandas as pd\n",
    "import numpy as np\n",
    "import matplotlib.pyplot as plt\n",
    "import seaborn as sns\n",
    "import utils"
   ]
  },
  {
   "cell_type": "code",
   "execution_count": 2,
   "id": "33c54a2f-46be-438d-bd8a-dd6c6ffa3a7d",
   "metadata": {},
   "outputs": [],
   "source": [
    "base_url = 'https://instagram.com'\n",
    "user_name = utils.username\n",
    "pass_word = utils.password\n",
    "profile = 'mediapermata'\n",
    "\n",
    "path = r'/Users/chong02/chromedriver.exe'\n",
    "driver = webdriver.Chrome(path)\n",
    "driver.get('https://www.instagram.com/')\n",
    "\n",
    "# Logging in\n",
    "time.sleep(10)\n",
    "username=driver.find_element(By.NAME, 'username')\n",
    "password=driver.find_element(By.NAME, 'password')\n",
    "username.send_keys(user_name)\n",
    "password.send_keys(pass_word)\n",
    "password.send_keys(Keys.RETURN)\n",
    "\n",
    "# Bypass save log in info\n",
    "time.sleep(10)\n",
    "not_now = driver.find_element(By.XPATH, \"//button[contains(text(), 'Not Now')]\").click()\n",
    "\n",
    "# Bypass notifs\n",
    "time.sleep(30)\n",
    "not_now_again = driver.find_element(By.XPATH, \"//button[contains(text(), 'Not Now')]\").click()\n",
    "\n",
    "# Search button\n",
    "time.sleep(5)\n",
    "open_search_tab = driver.find_element(By.XPATH, \"//a[@href='#'][@role='link']\").click()\n",
    "\n",
    "# Search for profile\n",
    "time.sleep(5)\n",
    "search_bar = driver.find_element(By.XPATH, \"//input[@placeholder='Search']\")\n",
    "search_bar.send_keys(profile)\n",
    "\n",
    "# Click on profile\n",
    "time.sleep(20)\n",
    "profile_link = driver.find_element(By.XPATH, f\"//a[@href='/{profile}/'][@role='link']\").click()\n",
    "\n",
    "# Infinite scrolling mechanism\n",
    "time.sleep(10)\n",
    "SCROLL_PAUSE_TIME = 1\n",
    "counter = 0\n",
    "# Get scroll height\n",
    "last_height = driver.execute_script(\"return document.body.scrollHeight\")\n",
    "while True and counter < 100:\n",
    "    # Scroll down to bottom\n",
    "    driver.execute_script(\"window.scrollTo(0, document.body.scrollHeight);\")\n",
    "    # Wait to load page\n",
    "    time.sleep(SCROLL_PAUSE_TIME)\n",
    "    # Calculate new scroll height and compare with last scroll height\n",
    "    new_height = driver.execute_script(\"return document.body.scrollHeight\")\n",
    "    if new_height == last_height:\n",
    "        break\n",
    "    last_height = new_height\n",
    "    counter += 1\n",
    "    \n",
    "# Save page html\n",
    "time.sleep(30)  # Wait for DOM to load\n",
    "html = driver.page_source"
   ]
  },
  {
   "cell_type": "code",
   "execution_count": 3,
   "id": "26ec6033-fb30-461e-8781-cf52e05c187e",
   "metadata": {},
   "outputs": [],
   "source": [
    "# Create soup\n",
    "soup = BeautifulSoup(html, 'html.parser')"
   ]
  },
  {
   "cell_type": "code",
   "execution_count": 21,
   "id": "ef9a69aa-3c85-4c8b-a12a-2d70420b0549",
   "metadata": {},
   "outputs": [
    {
     "name": "stdout",
     "output_type": "stream",
     "text": [
      "42 posts captured\n"
     ]
    }
   ],
   "source": [
    "def find_posts(href):\n",
    "    return href and re.compile(r'\\/p\\/.+\\/').search(href)\n",
    "\n",
    "posts = soup.find_all(href=find_posts)\n",
    "post_urls = [base_url + post.get('href') for post in posts]\n",
    "print(f'{len(post_urls)} posts captured')"
   ]
  },
  {
   "cell_type": "code",
   "execution_count": 18,
   "id": "e252abf6-d4a7-4226-989f-434b1a0288a7",
   "metadata": {},
   "outputs": [
    {
     "ename": "NameError",
     "evalue": "name 'posts_comments_users' is not defined",
     "output_type": "error",
     "traceback": [
      "\u001b[0;31m---------------------------------------------------------------------------\u001b[0m",
      "\u001b[0;31mNameError\u001b[0m                                 Traceback (most recent call last)",
      "Cell \u001b[0;32mIn[18], line 25\u001b[0m\n\u001b[1;32m     23\u001b[0m     post_comments \u001b[38;5;241m=\u001b[39m np\u001b[38;5;241m.\u001b[39mappend(post_comments, comments_arr)\n\u001b[1;32m     24\u001b[0m     post_comments_users \u001b[38;5;241m=\u001b[39m np\u001b[38;5;241m.\u001b[39mappend(post_comments_users, users_arr)\n\u001b[0;32m---> 25\u001b[0m post_comments, \u001b[43mposts_comments_users\u001b[49m\n",
      "\u001b[0;31mNameError\u001b[0m: name 'posts_comments_users' is not defined"
     ]
    }
   ],
   "source": [
    "def find_usernames(alt):\n",
    "    return alt and re.compile(r'profile picture').search(alt)\n",
    "\n",
    "post_comments = np.array([])\n",
    "post_comments_users = np.array([])\n",
    "\n",
    "for url in post_urls:\n",
    "    driver.get(url)\n",
    "    time.sleep(20)\n",
    "    post_html = driver.page_source\n",
    "    post_soup = BeautifulSoup(post_html, 'html.parser')\n",
    "    comments = post_soup.find_all('span', class_='_aacl _aaco _aacu _aacx _aad7 _aade')\n",
    "    comment_count = len(comments)\n",
    "    users = post_soup.find_all(alt=find_usernames)[-comment_count:]\n",
    "    comments_arr = np.array([])\n",
    "    users_arr = np.array([])\n",
    "    for comment in comments:\n",
    "        text = comment.text\n",
    "        comments_arr = np.append(comments_arr, text)\n",
    "    for user in users:\n",
    "        username = user.get('alt').split(\"'\")[0]\n",
    "        users_arr = np.append(users_arr, username)\n",
    "    post_comments = np.append(post_comments, comments_arr)\n",
    "    post_comments_users = np.append(post_comments_users, users_arr)"
   ]
  },
  {
   "cell_type": "code",
   "execution_count": 22,
   "id": "fdfd2497-375b-4bf2-bf28-40f34ae507a3",
   "metadata": {},
   "outputs": [
    {
     "data": {
      "text/plain": [
       "196"
      ]
     },
     "execution_count": 22,
     "metadata": {},
     "output_type": "execute_result"
    }
   ],
   "source": [
    "len(post_comments_users)"
   ]
  },
  {
   "cell_type": "code",
   "execution_count": 16,
   "id": "1629a3a9-3835-4ffe-9192-d9a488f250ee",
   "metadata": {},
   "outputs": [
    {
     "data": {
      "text/plain": [
       "'bibsterphs'"
      ]
     },
     "execution_count": 16,
     "metadata": {},
     "output_type": "execute_result"
    }
   ],
   "source": [
    "users[-3:][0].get('alt').split(\"'\")[0]"
   ]
  },
  {
   "cell_type": "code",
   "execution_count": 26,
   "id": "4c14d383-ebab-4234-9af5-dccefd539b0b",
   "metadata": {},
   "outputs": [
    {
     "ename": "TypeError",
     "evalue": "only integer scalar arrays can be converted to a scalar index",
     "output_type": "error",
     "traceback": [
      "\u001b[0;31m---------------------------------------------------------------------------\u001b[0m",
      "\u001b[0;31mTypeError\u001b[0m                                 Traceback (most recent call last)",
      "Cell \u001b[0;32mIn[26], line 3\u001b[0m\n\u001b[1;32m      1\u001b[0m test1 \u001b[38;5;241m=\u001b[39m np\u001b[38;5;241m.\u001b[39marray([\u001b[38;5;124m'\u001b[39m\u001b[38;5;124mhola\u001b[39m\u001b[38;5;124m'\u001b[39m, \u001b[38;5;124m'\u001b[39m\u001b[38;5;124mni hao\u001b[39m\u001b[38;5;124m'\u001b[39m])\n\u001b[1;32m      2\u001b[0m test2 \u001b[38;5;241m=\u001b[39m np\u001b[38;5;241m.\u001b[39marray([\u001b[38;5;124m'\u001b[39m\u001b[38;5;124mhello\u001b[39m\u001b[38;5;124m'\u001b[39m, \u001b[38;5;124m'\u001b[39m\u001b[38;5;124mhelllo\u001b[39m\u001b[38;5;124m'\u001b[39m])\n\u001b[0;32m----> 3\u001b[0m combined \u001b[38;5;241m=\u001b[39m \u001b[43mnp\u001b[49m\u001b[38;5;241;43m.\u001b[39;49m\u001b[43mconcatenate\u001b[49m\u001b[43m(\u001b[49m\u001b[43mtest1\u001b[49m\u001b[43m,\u001b[49m\u001b[43m \u001b[49m\u001b[43mtest2\u001b[49m\u001b[43m)\u001b[49m\n\u001b[1;32m      4\u001b[0m combined\n",
      "File \u001b[0;32m<__array_function__ internals>:200\u001b[0m, in \u001b[0;36mconcatenate\u001b[0;34m(*args, **kwargs)\u001b[0m\n",
      "\u001b[0;31mTypeError\u001b[0m: only integer scalar arrays can be converted to a scalar index"
     ]
    }
   ],
   "source": [
    "test1 = np.array(['hola', 'ni hao'])\n",
    "test2 = np.array(['hello', 'helllo'])\n",
    "combined = []\n",
    "combined"
   ]
  },
  {
   "cell_type": "code",
   "execution_count": null,
   "id": "16b7f4bd-c5f7-4f2f-a51b-e382ced7a586",
   "metadata": {},
   "outputs": [],
   "source": []
  }
 ],
 "metadata": {
  "kernelspec": {
   "display_name": "tf_m1",
   "language": "python",
   "name": "tf_m1"
  },
  "language_info": {
   "codemirror_mode": {
    "name": "ipython",
    "version": 3
   },
   "file_extension": ".py",
   "mimetype": "text/x-python",
   "name": "python",
   "nbconvert_exporter": "python",
   "pygments_lexer": "ipython3",
   "version": "3.8.16"
  }
 },
 "nbformat": 4,
 "nbformat_minor": 5
}
