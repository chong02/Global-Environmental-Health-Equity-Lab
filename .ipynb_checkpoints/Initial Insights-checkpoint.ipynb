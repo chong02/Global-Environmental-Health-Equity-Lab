{
 "cells": [
  {
   "cell_type": "markdown",
   "id": "78d4762c-538c-4a46-870e-f25e4019f183",
   "metadata": {},
   "source": [
    "# Initial Insights\n",
    "Notebook to derive some initial insights from the [@mediapermata](https://www.instagram.com/mediapermata/) Instagram page (Brunei's premier newspaper) with a particular focus on the comments."
   ]
  },
  {
   "cell_type": "code",
   "execution_count": 1,
   "id": "0e5884ce-76ad-404f-9a02-bebd809214da",
   "metadata": {},
   "outputs": [],
   "source": [
    "# Load in necessary libraries\n",
    "import warnings\n",
    "warnings.filterwarnings('ignore')\n",
    "from instaloader import *\n",
    "import malaya\n",
    "import pandas as pd\n",
    "import numpy as np\n",
    "import matplotlib.pyplot as plt\n",
    "import seaborn as sns"
   ]
  },
  {
   "cell_type": "code",
   "execution_count": null,
   "id": "75e06362-24af-4966-98c9-bc71a1a36e7b",
   "metadata": {},
   "outputs": [],
   "source": []
  }
 ],
 "metadata": {
  "kernelspec": {
   "display_name": "tf_m1",
   "language": "python",
   "name": "tf_m1"
  },
  "language_info": {
   "codemirror_mode": {
    "name": "ipython",
    "version": 3
   },
   "file_extension": ".py",
   "mimetype": "text/x-python",
   "name": "python",
   "nbconvert_exporter": "python",
   "pygments_lexer": "ipython3",
   "version": "3.8.16"
  }
 },
 "nbformat": 4,
 "nbformat_minor": 5
}
